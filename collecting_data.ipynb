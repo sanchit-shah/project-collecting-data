{
 "cells": [
  {
   "cell_type": "markdown",
   "metadata": {},
   "source": [
    "# Collecting Data\n",
    "\n",
    "The foundation of your project will be to collect appropriate data for the problem you are trying to solve. There is incredible versatility in how you can use an machine learning model. Some examples might be to predict the next social media trend, categorizing cancer cells, trying to better understand the relationship between temperature fluctuations and coffee bean growth rates, or creating a chat bot.\n",
    "\n",
    "Since we are very early in this course, and - most likely at this point - have not discussed many models, it may be difficult to know what you can do with a dataset, or what is in scope of this course. So by the nature of the course title \"Exploring Machine Learning\" we will take an explorative approach to your project. \n",
    "\n",
    "The goal of this part of the project is to explore what data sets you might be interested in, below will be questions to help guide you to selecting a category of data that you want to further explore."
   ]
  },
  {
   "cell_type": "markdown",
   "metadata": {},
   "source": [
    "## Identifying what data you want to explore\n",
    "\n",
    "Data is everywhere and there seems to be data on about anything. You might know exactly what you want to dive deeper into or you might have no idea. Either way I invite you answer the questions below.\n",
    "\n",
    "Below create a python dictionary with the key being a short summary of the topic of interest, while the value is an explanation of your interest - such as why you are interested in this topic, or why do you feel a strong passion to understand this topic. A topic of interest could be research you are conducting, a topic you are studying at your job, hobbies you have or topics surrounding your identities.\n",
    "\n",
    "List 5 topics, and for each topic put at least a 50 word description.\n",
    "\n",
    "For example I might put:\n",
    "\n",
    "```python\n",
    "interests = {\n",
    "    \"Cats\" : \"I have two cats at home, they are basically my children. I would generally like to learn more about cat behavior, health trends and pet owner behavior. It may be interesting to also see industry trends of cat owner, or how they compare to dog owners. Maybe later I want to start to write an app that recognizes cat breeds\",\n",
    "\n",
    "    \"Scuba\" : \"The study of scuba diving seems to be a 'soft' science, and there are general guidelines on when and how long you should do safety stops to avoid getting decompression sickness. Could there be links to human anatomy or behavior on how deep a person should go safely during a dive?\",\n",
    "}\n",
    "```"
   ]
  },
  {
   "cell_type": "code",
   "execution_count": null,
   "metadata": {},
   "outputs": [],
   "source": [
    "# Do not edit the name of this function, it will be used for grading\n",
    "def what_are_topics_you_are_interested_in():\n",
    "    interests = {\n",
    "        \"Air Travel\": \"I love traveling, especially by airplane, being able to explore so many different \\\n",
    "        kinds of airports and airlines. I am interested in seeing the potential correlation between various \\\n",
    "        factors such as time of day, airline, and more as well as how they impact flight delays. The idea is \\\n",
    "        to identify high-risk of delay flights and airports so that consumers can plan their travel accordingly.\",\n",
    "        \"COVID-19\": \"I have worked on bioinformatics/biostatistics projects in the past, and it may seem \\\n",
    "        simple enough but I want to understand how socioeconomic factors like a country's GDP, population, \\\n",
    "        education level, and more impacted the spread of COVID in different countries. I could then build a \\\n",
    "        potential model to detect disease spread based on various factors and assign them appropriate weights.\",\n",
    "        \"Election Prediction\": \"I really enjoy reading about and learning more about political science \\\n",
    "        (in my free time) and especially since this is an election year, I want to design a potential model \\\n",
    "        that could help predict the Presidential election result. I realize this is a daunting task but I will \\\n",
    "        start slow and ask questions like, \\\"How can we predict a voter's registration based on factors like \\\n",
    "        age, region, education level, etc?\\\" and then going to more complex questions like how can we predict \\\n",
    "        a state's electoral vote outcome?\",\n",
    "        \"Cancer Detection\": \"Again, since a lot of my prior research has focused on bioinformatics and \\\n",
    "        I have even done a project on breast cancer genomics analysis when in high school, I would like to \\\n",
    "        extend this work and develop a machine learning model to predict whether an individual has or will \\\n",
    "        develop cancer based on genomic data.\",\n",
    "        \"Stock Market\": \"This is a tricky one but I want to try to create a model that predicts stock price \\\n",
    "        based on real data and previous trends. I can utilize the yfinance (Yahoo Finance) library \\\n",
    "        to get historical data and use it to first 'predict' previous prices. If the model is able to \\\n",
    "        accurately idenify previous prices, I will have it try to predict future prices. This will be \\\n",
    "        useful for amateur investors like me to help them take calculated risks.\",\n",
    "        \"Housing Market\": \"Within the past few years, housing prices have skyrocketed, even in smaller \\\n",
    "        cities. Thus, I want to develop a machine learning model to help predict the estimated \\\n",
    "        price of a house based on factors like location, square footage, number of rooms, amenities, \\\n",
    "        and more which would help a first-time home owner identify their ideal budget.\"\n",
    "    } # Fill out your interests\n",
    "    return interests\n",
    "# Note: you can use the \\ symbol to continue your string to the next line, this makes \n",
    "# things look a bit prettier\n",
    "# Example:\n",
    "print(\"This is an \\\n",
    "      extended string \")"
   ]
  },
  {
   "cell_type": "markdown",
   "metadata": {},
   "source": [
    "## Do datasets exist for my interests?\n",
    "\n",
    "There is lots of data out there but not for everything. Below are some websites where you can take a look at available datasets. Go ahead and search for datasets related to your topic. Are there many data sets surrounding your topic? Are there many different types of data like categorical, regression, images, etc? If there are limited data sets, do you feel comfortable with the challenge of creating your own data? (Note creating your own data set to supplement existing datasets will increase your score on this assignment)\n",
    "\n",
    "> You can find a link to databases on the course page!\n",
    "\n",
    "For 3 of your topics find 3 databases you might want to use for your project. Below create a dictionary with the keys being the topic values you listed above and the value a link of 3 data bases you would like to explore. If you would like to make your own data too make add a string \"Create my own data\" to the end of the list\n",
    "\n",
    "Note, if you have trouble finding datasets for your topic you can make your dataset more general, or try a different topic. For example for my \"Cats\" topic I could expand it to \"Pets\", \"Pet Toy Sales\" or \"Pet Health Benefits\"\n",
    "\n",
    "You can always change your topic and dataset later, so don't feel that these decisions are permanent.\n",
    "\n",
    "While searching did it generate any ideas on interests or data sets you would like to explore? - If so you can add or replace a topic to the dictionary above!\n",
    "\n",
    "\n",
    "Example\"\n",
    "\n",
    "```python\n",
    "datasets = {\n",
    "    \"Cats\" : [\"https://www.kaggle.com/datasets/ma7555/cat-breeds-dataset\", \"https://example.com\", \"https://example.com\", \"Create my own data\"],\n",
    "\n",
    "    \"Second Topic\": [\"https://example.com\", \"https://example.com\", \"https://example.com\"],\n",
    "    \n",
    "    \"Third Topic\" : [\"https://example.com\", \"https://example.com\", \"https://example.com\"]\n",
    "}\n",
    "```\n"
   ]
  },
  {
   "cell_type": "code",
   "execution_count": 7,
   "metadata": {},
   "outputs": [],
   "source": [
    "def find_some_datasets():\n",
    "    datasets = {\n",
    "        \"Air Travel\": [\"https://www.kaggle.com/datasets/patrickzel/flight-delay-and-cancellation-dataset-2019-2023\",\n",
    "        \"https://www.kaggle.com/datasets/undersc0re/flight-delay-and-causes\", \"https://www.kaggle.com/datasets/jimschacko/airlines-dataset-to-predict-a-delay\"],\n",
    "\n",
    "        \"COVID-19\": [\"https://health.google.com/covid-19/open-data/raw-data\", \n",
    "        \"https://datacatalog.worldbank.org/search/collections/covid_19\", \"https://www.kaggle.com/datasets/imdevskp/corona-virus-report\"],\n",
    "\n",
    "        \"Election Prediction\": [\"https://www.census.gov/topics/public-sector/voting.html\", \"https://www.kaggle.com/datasets/tunguz/us-elections-dataset\"\n",
    "                                ,\"https://www.ncsbe.gov/results-data/voter-registration-data\", \"Create my own data\"],\n",
    "\n",
    "        \"Cancer Detection\": [\"https://www.kaggle.com/datasets/crawford/gene-expression/data\", \n",
    "        \"https://www.kaggle.com/datasets/raghadalharbi/breast-cancer-gene-expression-profiles-metabric\", \"https://www.kaggle.com/datasets/erdemtaha/cancer-data\"],\n",
    "\n",
    "        \"Stock Market\": [\"https://www.kaggle.com/datasets/borismarjanovic/price-volume-data-for-all-us-stocks-etfs\", \n",
    "            \"https://www.kaggle.com/datasets/jacksoncrow/stock-market-dataset\", \"https://www.kaggle.com/datasets/aaron7sun/stocknews\", \"Create my own data\"],\n",
    "\n",
    "        \"Housing Market\": [\"https://www.kaggle.com/datasets/vikrishnan/boston-house-prices\", \"https://www.kaggle.com/datasets/fedesoriano/the-boston-houseprice-data\",\n",
    "                           \"https://www.kaggle.com/datasets/schirmerchad/bostonhoustingmlnd\", \"Create my own data\"]\n",
    "        \n",
    "    }\n",
    "    return datasets"
   ]
  },
  {
   "cell_type": "markdown",
   "metadata": {},
   "source": [
    "## Asking questions about your dataset\n",
    "\n",
    "Some questions you might want to ask for each dataset are:\n",
    "- Who created this dataset?\n",
    "- When was this dataset created?\n",
    "- Could there be any biases when creating this dataset?\n",
    "- How was this data collected?\n",
    "- Is this data representative of the problem I am trying to solve?\n"
   ]
  }
 ],
 "metadata": {
  "kernelspec": {
   "display_name": "Python 3",
   "language": "python",
   "name": "python3"
  },
  "language_info": {
   "codemirror_mode": {
    "name": "ipython",
    "version": 3
   },
   "file_extension": ".py",
   "mimetype": "text/x-python",
   "name": "python",
   "nbconvert_exporter": "python",
   "pygments_lexer": "ipython3",
   "version": "3.10.9"
  }
 },
 "nbformat": 4,
 "nbformat_minor": 2
}
